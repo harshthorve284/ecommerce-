{
 "cells": [
  {
   "cell_type": "code",
   "execution_count": 1,
   "id": "c99df3c5",
   "metadata": {},
   "outputs": [],
   "source": [
    "import pandas as pd\n",
    "import numpy as np\n",
    "import seaborn as sns\n",
    "import matplotlib.pyplot as plt\n",
    " \n",
    "import warnings\n",
    "warnings.filterwarnings('ignore') "
   ]
  },
  {
   "cell_type": "code",
   "execution_count": 2,
   "id": "44d2c0bf",
   "metadata": {},
   "outputs": [
    {
     "data": {
      "text/html": [
       "<div>\n",
       "<style scoped>\n",
       "    .dataframe tbody tr th:only-of-type {\n",
       "        vertical-align: middle;\n",
       "    }\n",
       "\n",
       "    .dataframe tbody tr th {\n",
       "        vertical-align: top;\n",
       "    }\n",
       "\n",
       "    .dataframe thead th {\n",
       "        text-align: right;\n",
       "    }\n",
       "</style>\n",
       "<table border=\"1\" class=\"dataframe\">\n",
       "  <thead>\n",
       "    <tr style=\"text-align: right;\">\n",
       "      <th></th>\n",
       "      <th>index</th>\n",
       "      <th>DATE</th>\n",
       "      <th>Months</th>\n",
       "      <th>CUSTOMER</th>\n",
       "      <th>Style</th>\n",
       "      <th>SKU</th>\n",
       "      <th>Size</th>\n",
       "      <th>PCS</th>\n",
       "      <th>RATE</th>\n",
       "      <th>GROSS AMT</th>\n",
       "    </tr>\n",
       "  </thead>\n",
       "  <tbody>\n",
       "    <tr>\n",
       "      <th>2568</th>\n",
       "      <td>2568</td>\n",
       "      <td>08-15-21</td>\n",
       "      <td>Aug-21</td>\n",
       "      <td>MULBERRIES BOUTIQUE</td>\n",
       "      <td>JNE3724</td>\n",
       "      <td>JNE3724-KR-XL</td>\n",
       "      <td>XL</td>\n",
       "      <td>1.00</td>\n",
       "      <td>743.75</td>\n",
       "      <td>744.00</td>\n",
       "    </tr>\n",
       "    <tr>\n",
       "      <th>15109</th>\n",
       "      <td>15109</td>\n",
       "      <td>02-24-22</td>\n",
       "      <td>Feb-22</td>\n",
       "      <td>RINA THAKURTA</td>\n",
       "      <td>SET248</td>\n",
       "      <td>SET248-KR-NP-XS</td>\n",
       "      <td>XS</td>\n",
       "      <td>1.00</td>\n",
       "      <td>687.50</td>\n",
       "      <td>653.00</td>\n",
       "    </tr>\n",
       "    <tr>\n",
       "      <th>6637</th>\n",
       "      <td>6637</td>\n",
       "      <td>11-22-21</td>\n",
       "      <td>Nov-21</td>\n",
       "      <td>VAHARSHA BOUTIQUE</td>\n",
       "      <td>SET345</td>\n",
       "      <td>SET345-KR-NP-S</td>\n",
       "      <td>S</td>\n",
       "      <td>1.00</td>\n",
       "      <td>687.50</td>\n",
       "      <td>674.00</td>\n",
       "    </tr>\n",
       "    <tr>\n",
       "      <th>15237</th>\n",
       "      <td>15237</td>\n",
       "      <td>02-26-22</td>\n",
       "      <td>Feb-22</td>\n",
       "      <td>NATHIYA REDDY</td>\n",
       "      <td>JNE3555</td>\n",
       "      <td>JNE3555-KR-XXL</td>\n",
       "      <td>XXL</td>\n",
       "      <td>1.00</td>\n",
       "      <td>462.50</td>\n",
       "      <td>462.00</td>\n",
       "    </tr>\n",
       "    <tr>\n",
       "      <th>2427</th>\n",
       "      <td>2427</td>\n",
       "      <td>08-14-21</td>\n",
       "      <td>Aug-21</td>\n",
       "      <td>ARKH FASHION</td>\n",
       "      <td>SET253</td>\n",
       "      <td>SET253-KR-NP-M</td>\n",
       "      <td>M</td>\n",
       "      <td>1.00</td>\n",
       "      <td>943.75</td>\n",
       "      <td>944.00</td>\n",
       "    </tr>\n",
       "    <tr>\n",
       "      <th>...</th>\n",
       "      <td>...</td>\n",
       "      <td>...</td>\n",
       "      <td>...</td>\n",
       "      <td>...</td>\n",
       "      <td>...</td>\n",
       "      <td>...</td>\n",
       "      <td>...</td>\n",
       "      <td>...</td>\n",
       "      <td>...</td>\n",
       "      <td>...</td>\n",
       "    </tr>\n",
       "    <tr>\n",
       "      <th>10241</th>\n",
       "      <td>10241</td>\n",
       "      <td>10-01-21</td>\n",
       "      <td>Oct-21</td>\n",
       "      <td>VISHAL DARSHAN BOUTIQUE</td>\n",
       "      <td>JNE2100</td>\n",
       "      <td>JNE2100-KR-144-S</td>\n",
       "      <td>S</td>\n",
       "      <td>2.00</td>\n",
       "      <td>469.00</td>\n",
       "      <td>938.00</td>\n",
       "    </tr>\n",
       "    <tr>\n",
       "      <th>30066</th>\n",
       "      <td>30066</td>\n",
       "      <td>BHANU SALEINE NAUNITHAM</td>\n",
       "      <td>03-09-22</td>\n",
       "      <td>Mar-22</td>\n",
       "      <td>JNE3435</td>\n",
       "      <td>JNE3435-KR-XXXL</td>\n",
       "      <td>1.00</td>\n",
       "      <td>425.00</td>\n",
       "      <td>425.00</td>\n",
       "      <td>38.00</td>\n",
       "    </tr>\n",
       "    <tr>\n",
       "      <th>15973</th>\n",
       "      <td>15973</td>\n",
       "      <td>03-03-22</td>\n",
       "      <td>Mar-22</td>\n",
       "      <td>SHILPI KUMARI</td>\n",
       "      <td>JNE3701</td>\n",
       "      <td>JNE3701-KR-XL</td>\n",
       "      <td>XL</td>\n",
       "      <td>1.00</td>\n",
       "      <td>462.50</td>\n",
       "      <td>439.00</td>\n",
       "    </tr>\n",
       "    <tr>\n",
       "      <th>19317</th>\n",
       "      <td>19317</td>\n",
       "      <td>JNE3384</td>\n",
       "      <td>151.00</td>\n",
       "      <td>NaN</td>\n",
       "      <td>NaN</td>\n",
       "      <td>NaN</td>\n",
       "      <td>NaN</td>\n",
       "      <td>NaN</td>\n",
       "      <td>NaN</td>\n",
       "      <td>NaN</td>\n",
       "    </tr>\n",
       "    <tr>\n",
       "      <th>12456</th>\n",
       "      <td>12456</td>\n",
       "      <td>11-22-21</td>\n",
       "      <td>Nov-21</td>\n",
       "      <td>VAHARSHA BOUTIQUE</td>\n",
       "      <td>JNE3764</td>\n",
       "      <td>JNE3764-KR-XL</td>\n",
       "      <td>XL</td>\n",
       "      <td>1.00</td>\n",
       "      <td>587.50</td>\n",
       "      <td>576.00</td>\n",
       "    </tr>\n",
       "  </tbody>\n",
       "</table>\n",
       "<p>37432 rows × 10 columns</p>\n",
       "</div>"
      ],
      "text/plain": [
       "       index                      DATE    Months                 CUSTOMER  \\\n",
       "2568    2568                  08-15-21    Aug-21      MULBERRIES BOUTIQUE   \n",
       "15109  15109                  02-24-22    Feb-22            RINA THAKURTA   \n",
       "6637    6637                  11-22-21    Nov-21       VAHARSHA BOUTIQUE    \n",
       "15237  15237                  02-26-22    Feb-22            NATHIYA REDDY   \n",
       "2427    2427                  08-14-21    Aug-21             ARKH FASHION   \n",
       "...      ...                       ...       ...                      ...   \n",
       "10241  10241                  10-01-21    Oct-21  VISHAL DARSHAN BOUTIQUE   \n",
       "30066  30066  BHANU SALEINE NAUNITHAM   03-09-22                   Mar-22   \n",
       "15973  15973                  03-03-22    Mar-22            SHILPI KUMARI   \n",
       "19317  19317                   JNE3384    151.00                      NaN   \n",
       "12456  12456                  11-22-21    Nov-21       VAHARSHA BOUTIQUE    \n",
       "\n",
       "         Style               SKU  Size     PCS    RATE GROSS AMT  \n",
       "2568   JNE3724     JNE3724-KR-XL    XL    1.00  743.75    744.00  \n",
       "15109   SET248   SET248-KR-NP-XS    XS    1.00  687.50    653.00  \n",
       "6637    SET345    SET345-KR-NP-S     S    1.00  687.50    674.00  \n",
       "15237  JNE3555    JNE3555-KR-XXL   XXL    1.00  462.50    462.00  \n",
       "2427    SET253    SET253-KR-NP-M     M    1.00  943.75    944.00  \n",
       "...        ...               ...   ...     ...     ...       ...  \n",
       "10241  JNE2100  JNE2100-KR-144-S     S    2.00  469.00    938.00  \n",
       "30066  JNE3435   JNE3435-KR-XXXL  1.00  425.00  425.00     38.00  \n",
       "15973  JNE3701     JNE3701-KR-XL    XL    1.00  462.50    439.00  \n",
       "19317      NaN               NaN   NaN     NaN     NaN       NaN  \n",
       "12456  JNE3764     JNE3764-KR-XL    XL    1.00  587.50    576.00  \n",
       "\n",
       "[37432 rows x 10 columns]"
      ]
     },
     "execution_count": 2,
     "metadata": {},
     "output_type": "execute_result"
    }
   ],
   "source": [
    "df=pd.read_csv('C:/ecommerce-/International sale Report.csv')\n",
    "df.sample(frac=1)"
   ]
  },
  {
   "cell_type": "code",
   "execution_count": 3,
   "id": "2dd74430",
   "metadata": {},
   "outputs": [
    {
     "name": "stdout",
     "output_type": "stream",
     "text": [
      "<class 'pandas.core.frame.DataFrame'>\n",
      "RangeIndex: 37432 entries, 0 to 37431\n",
      "Data columns (total 10 columns):\n",
      " #   Column     Non-Null Count  Dtype \n",
      "---  ------     --------------  ----- \n",
      " 0   index      37432 non-null  int64 \n",
      " 1   DATE       37431 non-null  object\n",
      " 2   Months     37407 non-null  object\n",
      " 3   CUSTOMER   36392 non-null  object\n",
      " 4   Style      36392 non-null  object\n",
      " 5   SKU        34958 non-null  object\n",
      " 6   Size       36392 non-null  object\n",
      " 7   PCS        36392 non-null  object\n",
      " 8   RATE       36392 non-null  object\n",
      " 9   GROSS AMT  36392 non-null  object\n",
      "dtypes: int64(1), object(9)\n",
      "memory usage: 2.9+ MB\n"
     ]
    }
   ],
   "source": [
    "df.info()"
   ]
  },
  {
   "cell_type": "code",
   "execution_count": null,
   "id": "54eae73c",
   "metadata": {},
   "outputs": [
    {
     "data": {
      "text/html": [
       "<div>\n",
       "<style scoped>\n",
       "    .dataframe tbody tr th:only-of-type {\n",
       "        vertical-align: middle;\n",
       "    }\n",
       "\n",
       "    .dataframe tbody tr th {\n",
       "        vertical-align: top;\n",
       "    }\n",
       "\n",
       "    .dataframe thead th {\n",
       "        text-align: right;\n",
       "    }\n",
       "</style>\n",
       "<table border=\"1\" class=\"dataframe\">\n",
       "  <thead>\n",
       "    <tr style=\"text-align: right;\">\n",
       "      <th></th>\n",
       "      <th>index</th>\n",
       "    </tr>\n",
       "  </thead>\n",
       "  <tbody>\n",
       "    <tr>\n",
       "      <th>count</th>\n",
       "      <td>37432.000000</td>\n",
       "    </tr>\n",
       "    <tr>\n",
       "      <th>mean</th>\n",
       "      <td>18715.500000</td>\n",
       "    </tr>\n",
       "    <tr>\n",
       "      <th>std</th>\n",
       "      <td>10805.831975</td>\n",
       "    </tr>\n",
       "    <tr>\n",
       "      <th>min</th>\n",
       "      <td>0.000000</td>\n",
       "    </tr>\n",
       "    <tr>\n",
       "      <th>25%</th>\n",
       "      <td>9357.750000</td>\n",
       "    </tr>\n",
       "    <tr>\n",
       "      <th>50%</th>\n",
       "      <td>18715.500000</td>\n",
       "    </tr>\n",
       "    <tr>\n",
       "      <th>75%</th>\n",
       "      <td>28073.250000</td>\n",
       "    </tr>\n",
       "    <tr>\n",
       "      <th>max</th>\n",
       "      <td>37431.000000</td>\n",
       "    </tr>\n",
       "  </tbody>\n",
       "</table>\n",
       "</div>"
      ],
      "text/plain": [
       "              index\n",
       "count  37432.000000\n",
       "mean   18715.500000\n",
       "std    10805.831975\n",
       "min        0.000000\n",
       "25%     9357.750000\n",
       "50%    18715.500000\n",
       "75%    28073.250000\n",
       "max    37431.000000"
      ]
     },
     "execution_count": 6,
     "metadata": {},
     "output_type": "execute_result"
    }
   ],
   "source": [
    "df.describe"
   ]
  },
  {
   "cell_type": "code",
   "execution_count": 8,
   "id": "7f91bf0e",
   "metadata": {},
   "outputs": [],
   "source": [
    "df['DATE']=pd.to_datetime(df['DATE'],errors='coerce')\n",
    "df['PCS']=pd.to_numeric(df['PCS'],errors='coerce')\n",
    "df['RATE']=pd.to_numeric(df['RATE'],errors='coerce')\n",
    "df['GROSS AMT']=pd.to_numeric(df['GROSS AMT'],errors='coerce')"
   ]
  },
  {
   "cell_type": "code",
   "execution_count": 9,
   "id": "6809c8ab",
   "metadata": {},
   "outputs": [
    {
     "data": {
      "image/png": "[encoded data removed]",
      "text/plain": [
       "<Figure size 640x480 with 1 Axes>"
      ]
     },
     "metadata": {},
     "output_type": "display_data"
    }
   ],
   "source": [
    "df.isnull().sum().plot(kind='barh')\n",
    "plt.title('missing values')\n",
    "plt.show()"
   ]
  },
  {
   "cell_type": "code",
   "execution_count": 10,
   "id": "21acd529",
   "metadata": {},
   "outputs": [
    {
     "data": {
      "text/plain": [
       "np.float64(2.7810429578969864)"
      ]
     },
     "execution_count": 10,
     "metadata": {},
     "output_type": "execute_result"
    }
   ],
   "source": [
    "(df['GROSS AMT'].isnull().sum()/len(df['GROSS AMT']))*100"
   ]
  },
  {
   "cell_type": "code",
   "execution_count": 11,
   "id": "0257c209",
   "metadata": {},
   "outputs": [
    {
     "data": {
      "text/plain": [
       "np.float64(450.53994641532245)"
      ]
     },
     "execution_count": 11,
     "metadata": {},
     "output_type": "execute_result"
    }
   ],
   "source": [
    "df['GROSS AMT'].mean()"
   ]
  },
  {
   "cell_type": "code",
   "execution_count": 12,
   "id": "53d702e4",
   "metadata": {},
   "outputs": [
    {
     "data": {
      "text/plain": [
       "np.float64(340.0)"
      ]
     },
     "execution_count": 12,
     "metadata": {},
     "output_type": "execute_result"
    }
   ],
   "source": [
    "df['GROSS AMT'].median()"
   ]
  },
  {
   "cell_type": "code",
   "execution_count": 13,
   "id": "929278b5",
   "metadata": {},
   "outputs": [
    {
     "data": {
      "text/plain": [
       "(np.float64(681.0), np.float64(11.0))"
      ]
     },
     "execution_count": 13,
     "metadata": {},
     "output_type": "execute_result"
    }
   ],
   "source": [
    "df['GROSS AMT'].quantile(0.75),df['GROSS AMT'].quantile(0.25)"
   ]
  },
  {
   "cell_type": "code",
   "execution_count": 14,
   "id": "f40ab3e2",
   "metadata": {},
   "outputs": [],
   "source": [
    "df['GROSS AMT'].fillna(df['GROSS AMT'].median,inplace=True)"
   ]
  },
  {
   "cell_type": "code",
   "execution_count": 15,
   "id": "081c827b",
   "metadata": {},
   "outputs": [
    {
     "data": {
      "image/png": "[encoded data removed]",
      "text/plain": [
       "<Figure size 640x480 with 1 Axes>"
      ]
     },
     "metadata": {},
     "output_type": "display_data"
    }
   ],
   "source": [
    "df.isnull().sum().plot(kind='barh')\n",
    "plt.title('Filled GROSS AMT')\n",
    "plt.show()"
   ]
  }
 ],
 "metadata": {
  "kernelspec": {
   "display_name": "Python 3",
   "language": "python",
   "name": "python3"
  },
  "language_info": {
   "codemirror_mode": {
    "name": "ipython",
    "version": 3
   },
   "file_extension": ".py",
   "mimetype": "text/x-python",
   "name": "python",
   "nbconvert_exporter": "python",
   "pygments_lexer": "ipython3",
   "version": "3.13.2"
  }
 },
 "nbformat": 4,
 "nbformat_minor": 5
}
